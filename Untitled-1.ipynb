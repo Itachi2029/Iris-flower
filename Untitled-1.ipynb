{
 "cells": [
  {
   "cell_type": "code",
   "execution_count": 36,
   "metadata": {},
   "outputs": [
    {
     "data": {
      "text/plain": [
       "(150, 5)"
      ]
     },
     "execution_count": 36,
     "metadata": {},
     "output_type": "execute_result"
    }
   ],
   "source": [
    "import pandas as pd\n",
    "import numpy as np\n",
    "from sklearn.model_selection import train_test_split \n",
    "from sklearn import metrics\n",
    "import seaborn\n",
    "import matplotlib.pyplot as plt\n",
    "dp=pd.read_csv(r\"C:\\Users\\saura\\Documents\\kaggle\\IRIS.csv\")\n",
    "dp.shape\n"
   ]
  },
  {
   "cell_type": "code",
   "execution_count": 45,
   "metadata": {},
   "outputs": [
    {
     "name": "stdout",
     "output_type": "stream",
     "text": [
      "     sepal_length  sepal_width  petal_length  petal_width  Iris-setosa  \\\n",
      "0             5.1          3.5           1.4          0.2            1   \n",
      "1             4.9          3.0           1.4          0.2            1   \n",
      "2             4.7          3.2           1.3          0.2            1   \n",
      "3             4.6          3.1           1.5          0.2            1   \n",
      "4             5.0          3.6           1.4          0.2            1   \n",
      "..            ...          ...           ...          ...          ...   \n",
      "145           6.7          3.0           5.2          2.3            0   \n",
      "146           6.3          2.5           5.0          1.9            0   \n",
      "147           6.5          3.0           5.2          2.0            0   \n",
      "148           6.2          3.4           5.4          2.3            0   \n",
      "149           5.9          3.0           5.1          1.8            0   \n",
      "\n",
      "     Iris-virginica  \n",
      "0                 0  \n",
      "1                 0  \n",
      "2                 0  \n",
      "3                 0  \n",
      "4                 0  \n",
      "..              ...  \n",
      "145               1  \n",
      "146               1  \n",
      "147               1  \n",
      "148               1  \n",
      "149               1  \n",
      "\n",
      "[150 rows x 6 columns]\n"
     ]
    }
   ],
   "source": [
    "dummy=pd.get_dummies(dp.species)\n",
    "merge=pd.concat([dp,dummy],axis='columns')\n",
    "final=merge.drop(['species','Iris-versicolor'],axis='columns')\n",
    "print(final)"
   ]
  },
  {
   "cell_type": "code",
   "execution_count": 35,
   "metadata": {},
   "outputs": [
    {
     "name": "stdout",
     "output_type": "stream",
     "text": [
      "(30,)\n"
     ]
    }
   ],
   "source": [
    "x=dp.drop('species',axis=1)\n",
    "y=dp['species']\n",
    "x_train,x_test,y_train,y_test=train_test_split(x,y,test_size=0.2,shuffle=True)\n",
    "\n"
   ]
  },
  {
   "cell_type": "code",
   "execution_count": 50,
   "metadata": {},
   "outputs": [],
   "source": [
    "from sklearn.neighbors import KNeighborsClassifier\n",
    "neigh = KNeighborsClassifier(n_neighbors=3)\n",
    "neigh.fit(x_train, y_train)\n",
    "y=neigh.predict(x_test)\n"
   ]
  },
  {
   "cell_type": "code",
   "execution_count": 52,
   "metadata": {},
   "outputs": [
    {
     "data": {
      "text/plain": [
       "0.9666666666666667"
      ]
     },
     "execution_count": 52,
     "metadata": {},
     "output_type": "execute_result"
    }
   ],
   "source": [
    "from sklearn.metrics import accuracy_score\n",
    "accuracy_score(y_test, y)"
   ]
  },
  {
   "cell_type": "code",
   "execution_count": 54,
   "metadata": {},
   "outputs": [],
   "source": [
    "import pickle\n",
    "with open('model_pickup','wb') as f:\n",
    "    pickle.dump(neigh,f)\n",
    "\n"
   ]
  },
  {
   "cell_type": "code",
   "execution_count": 57,
   "metadata": {},
   "outputs": [],
   "source": [
    "with open('model_pickup','rb') as f:\n",
    "  model=pickle.load(f)"
   ]
  },
  {
   "cell_type": "code",
   "execution_count": 60,
   "metadata": {},
   "outputs": [
    {
     "name": "stderr",
     "output_type": "stream",
     "text": [
      "c:\\Users\\saura\\AppData\\Local\\Programs\\Python\\Python39\\lib\\site-packages\\sklearn\\base.py:450: UserWarning: X does not have valid feature names, but KNeighborsClassifier was fitted with feature names\n",
      "  warnings.warn(\n"
     ]
    },
    {
     "data": {
      "text/plain": [
       "array(['Iris-setosa'], dtype=object)"
      ]
     },
     "execution_count": 60,
     "metadata": {},
     "output_type": "execute_result"
    }
   ],
   "source": [
    "model.predict([[1,2,1,4]])"
   ]
  }
 ],
 "metadata": {
  "kernelspec": {
   "display_name": "Python 3.9.0 64-bit",
   "language": "python",
   "name": "python3"
  },
  "language_info": {
   "codemirror_mode": {
    "name": "ipython",
    "version": 3
   },
   "file_extension": ".py",
   "mimetype": "text/x-python",
   "name": "python",
   "nbconvert_exporter": "python",
   "pygments_lexer": "ipython3",
   "version": "3.9.0"
  },
  "orig_nbformat": 4,
  "vscode": {
   "interpreter": {
    "hash": "ceafd33b13d28224df4a8f06ce58236861dacf2296ff1f04532ec84c8d08155d"
   }
  }
 },
 "nbformat": 4,
 "nbformat_minor": 2
}
